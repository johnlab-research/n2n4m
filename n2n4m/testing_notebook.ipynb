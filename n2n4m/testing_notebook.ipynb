{
 "cells": [
  {
   "cell_type": "code",
   "execution_count": 1,
   "metadata": {},
   "outputs": [],
   "source": [
    "from n2n4m.crism_image import CRISMImage"
   ]
  },
  {
   "cell_type": "code",
   "execution_count": 2,
   "metadata": {},
   "outputs": [
    {
     "name": "stdout",
     "output_type": "stream",
     "text": [
      "Image loaded successfully.\n"
     ]
    }
   ],
   "source": [
    "test_im = CRISMImage(\"/home/rp1818/RDS/N2N_denoising_validation_images/ATU0003561F/ATU0003561F_01_IF168L_TRR3.img\")"
   ]
  },
  {
   "cell_type": "code",
   "execution_count": 9,
   "metadata": {},
   "outputs": [
    {
     "data": {
      "application/vnd.jupyter.widget-view+json": {
       "model_id": "87094227d4e743bfab0d6e3479aec45d",
       "version_major": 2,
       "version_minor": 0
      },
      "text/plain": [
       "interactive(children=(IntSlider(value=0, description='X:', max=639), IntSlider(value=0, description='Y:', max=…"
      ]
     },
     "execution_count": 9,
     "metadata": {},
     "output_type": "execute_result"
    }
   ],
   "source": [
    "import numpy as np\n",
    "import matplotlib.pyplot as plt\n",
    "from ipywidgets import interactive, IntSlider\n",
    "import ipywidgets as widgets\n",
    "\n",
    "\n",
    "image_data = test_im.image\n",
    "x_shape = test_im.spatial_dims[1]\n",
    "y_shape = test_im.spatial_dims[0]\n",
    "\n",
    "# Function to update the plots\n",
    "def update_plots(x, y):\n",
    "    # Plot 2D image\n",
    "    plt.figure(figsize=(10, 4))\n",
    "    plt.subplot(1, 2, 1)\n",
    "    plt.imshow(image_data[:, :, 0], cmap='viridis', aspect='auto')\n",
    "    plt.scatter(x, y, marker='x', color='red', label=\"Selected Pixel\")\n",
    "    plt.title('2D Image')\n",
    "\n",
    "    # Plot spectral line plot\n",
    "    plt.subplot(1, 2, 2)\n",
    "    plt.plot(image_data[y, x, :])\n",
    "    plt.title('Spectral Line Plot')\n",
    "    plt.xlabel('Spectral Dimension')\n",
    "    plt.ylabel('Intensity')\n",
    "\n",
    "    plt.tight_layout()\n",
    "    plt.show()\n",
    "\n",
    "# Create interactive sliders\n",
    "x_slider = IntSlider(min=0, max=x_shape-1, value=0, description='X:')\n",
    "y_slider = IntSlider(min=0, max=y_shape-1, value=0, description='Y:')\n",
    "\n",
    "# Create interactive widget\n",
    "interactive_plot = interactive(update_plots, x=x_slider, y=y_slider)\n",
    "interactive_plot\n"
   ]
  },
  {
   "cell_type": "code",
   "execution_count": 6,
   "metadata": {},
   "outputs": [
    {
     "data": {
      "text/plain": [
       "(151, 640, 438)"
      ]
     },
     "execution_count": 6,
     "metadata": {},
     "output_type": "execute_result"
    }
   ],
   "source": [
    "image_data.shape"
   ]
  },
  {
   "cell_type": "code",
   "execution_count": null,
   "metadata": {},
   "outputs": [],
   "source": []
  }
 ],
 "metadata": {
  "kernelspec": {
   "display_name": "test",
   "language": "python",
   "name": "python3"
  },
  "language_info": {
   "codemirror_mode": {
    "name": "ipython",
    "version": 3
   },
   "file_extension": ".py",
   "mimetype": "text/x-python",
   "name": "python",
   "nbconvert_exporter": "python",
   "pygments_lexer": "ipython3",
   "version": "3.11.7"
  }
 },
 "nbformat": 4,
 "nbformat_minor": 2
}
